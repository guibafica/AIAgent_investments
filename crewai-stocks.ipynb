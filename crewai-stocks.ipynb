{
  "cells": [
    {
      "cell_type": "code",
      "execution_count": null,
      "metadata": {},
      "outputs": [],
      "source": [
        "# LIB INSTALLATION\n",
        "\n",
        "!pip install yfinance\n",
        "!pip install crewai\n",
        "!pip install 'crewai[tools]'\n",
        "!pip install langchain\n",
        "!pip install langchain-openai\n",
        "!pip install langchain-community"
      ]
    },
    {
      "cell_type": "code",
      "execution_count": 12,
      "metadata": {},
      "outputs": [],
      "source": [
        "# LIB IMPORTS\n",
        "\n",
        "import json\n",
        "import os\n",
        "from datetime import datetime, date\n",
        "\n",
        "import yfinance as yf\n",
        "\n",
        "import numpy as np\n",
        "np.float_ = np.float64\n",
        "\n",
        "from crewai import Agent, Task\n",
        "\n",
        "from langchain.tools import Tool\n",
        "from langchain_openai import ChatOpenAI\n",
        "from langchain_community.tools import DuckDuckGoSearchResults"
      ]
    },
    {
      "cell_type": "code",
      "execution_count": 13,
      "metadata": {},
      "outputs": [],
      "source": [
        "# CREATE YAHOO FINANCE TOOL\n",
        "\n",
        "today = date.today()\n",
        "last_year = str(datetime.now().year - 1) + \"-01-01\"\n",
        "\n",
        "def fetch_stock_price(ticket):\n",
        "  stock = yf.download(ticket, start=last_year, end=today)\n",
        "\n",
        "  return stock\n",
        "\n",
        "yahoo_finance_tool = Tool(\n",
        "  name = \"Yahoo Finance Tool\",\n",
        "  description = \"Fetches stocks prices for {ticket} from the last year about a specific company from Yahoo Finance API\",\n",
        "  func = lambda ticket: fetch_stock_price(ticket)\n",
        ")"
      ]
    },
    {
      "cell_type": "code",
      "execution_count": 4,
      "metadata": {},
      "outputs": [],
      "source": [
        "# OPENAI LLM - GPT IMPORT\n",
        "\n",
        "llm = ChatOpenAI(model=\"gpt-3.5-turbo\")"
      ]
    },
    {
      "cell_type": "code",
      "execution_count": 8,
      "metadata": {},
      "outputs": [],
      "source": [
        "stockPriceAnalyst = Agent(\n",
        "  role = \"Senior stock price Analyst\",\n",
        "  goal = \"Find the {ticket} stock price and analyses trends\",\n",
        "  backstory = \"\"\"You're highly experienced in analyzing the price of a \n",
        "  specific stock and make predictions about its future price.\"\"\",\n",
        "  verbose = True,\n",
        "  llm = llm,\n",
        "  max_iter = 5,\n",
        "  memory = True,\n",
        "  tools = [yahoo_finance_tool],\n",
        ")"
      ]
    },
    {
      "cell_type": "code",
      "execution_count": 9,
      "metadata": {},
      "outputs": [],
      "source": [
        "getStockPrice = Task(\n",
        "  description = \"Analyze the stock {ticket} price history and create a trend analyses of up, down or sideways\",\n",
        "  expected_output = \"\"\"Specify the current trend stock price - up, down or sideways.\n",
        "  eg. stock = 'APPL, price UP' \n",
        "  \"\"\",\n",
        "  agent = stockPriceAnalyst\n",
        ")"
      ]
    },
    {
      "cell_type": "code",
      "execution_count": null,
      "metadata": {},
      "outputs": [],
      "source": [
        "# SEARCH TOOL IMPORT\n",
        "\n",
        "search_tool = DuckDuckGoSearchResults(backend = 'news' , num_results = 10)"
      ]
    },
    {
      "cell_type": "code",
      "execution_count": 11,
      "metadata": {},
      "outputs": [],
      "source": [
        "newsAnalyst = Agent(\n",
        "  role = \"Stock News Analyst\",\n",
        "  goal = \"\"\"Create a short summary of the market news related to the stock \n",
        "  {ticket} company. Specify the current trend - up, down or sideways with the news\n",
        "  context. For each request stock asset, specify a number between 0 and 100, where 0 is\n",
        "  extreme fear and 100 is extreme greed.\n",
        "  \"\"\",\n",
        "  backstory = \"\"\"You're highly experienced in analyzing the market trends and news and have\n",
        "  tracked assert for more then 10 years.\n",
        "\n",
        "  You're also master level analysts in the tradicional markets and have deep understanding\n",
        "  of human psychology.\n",
        "\n",
        "  You understand news, theirs titles and information, but you look at those with\n",
        "  a health dose of skepticism. \n",
        "  You consider also the source of the news articles.\n",
        "  \"\"\",\n",
        "  verbose = True,\n",
        "  llm = llm,\n",
        "  max_iter = 10,\n",
        "  memory = True,\n",
        "  tools = [search_tool],\n",
        ")"
      ]
    },
    {
      "cell_type": "code",
      "execution_count": null,
      "metadata": {},
      "outputs": [],
      "source": [
        "get_news = Task(\n",
        "  description = \"\"\"Take the stock and always include BTC to it (if not request).\n",
        "  Use the search tool to search each one individually.\n",
        "\n",
        "  The current date is {datetime.now()}.\n",
        "\n",
        "  Compose the results into a helpful report\"\"\",\n",
        "  expected_output = \"\"\"A summary of the overall market and one sentence summary \n",
        "  for each request asset.\n",
        "  Include a fear/greed score for each asset based on the news. Use format:\n",
        "  <STOCK ASSET>\n",
        "  <SUMMARY BASED ON NEWS>\n",
        "  <TREND PREDICTION>\n",
        "  <FEAR/GREED SCORE>\n",
        "  \"\"\",\n",
        "  agent = newsAnalyst\n",
        ")"
      ]
    },
    {
      "cell_type": "code",
      "execution_count": null,
      "metadata": {},
      "outputs": [],
      "source": []
    }
  ],
  "metadata": {
    "kernelspec": {
      "display_name": "Python 3",
      "language": "python",
      "name": "python3"
    },
    "language_info": {
      "codemirror_mode": {
        "name": "ipython",
        "version": 3
      },
      "file_extension": ".py",
      "mimetype": "text/x-python",
      "name": "python",
      "nbconvert_exporter": "python",
      "pygments_lexer": "ipython3",
      "version": "3.10.12"
    }
  },
  "nbformat": 4,
  "nbformat_minor": 2
}
