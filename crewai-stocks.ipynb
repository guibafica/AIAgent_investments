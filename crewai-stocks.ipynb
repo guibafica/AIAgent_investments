{
  "cells": [
    {
      "cell_type": "code",
      "execution_count": null,
      "metadata": {},
      "outputs": [],
      "source": [
        "# LIB INSTALLATION\n",
        "\n",
        "!pip install yfinance==0.2.41\n",
        "!pip install crewai==0.28.8\n",
        "!pip install 'crewai[tools]'\n",
        "!pip install langchain==0.1.20\n",
        "!pip install langchain-openai==0.1.7\n",
        "!pip install langchain-community==0.0.38\n",
        "!pip install duckduckgo-search==5.3.0"
      ]
    },
    {
      "cell_type": "code",
      "execution_count": 71,
      "metadata": {},
      "outputs": [],
      "source": [
        "# LIB IMPORTS\n",
        "\n",
        "import json\n",
        "import os\n",
        "from datetime import datetime, date\n",
        "\n",
        "import yfinance as yf\n",
        "\n",
        "import numpy as np\n",
        "np.float_ = np.float64\n",
        "\n",
        "from crewai import Agent, Task, Crew, Process\n",
        "\n",
        "from langchain.tools import Tool\n",
        "from langchain_openai import ChatOpenAI\n",
        "from langchain_community.tools import DuckDuckGoSearchResults\n",
        "\n",
        "from IPython.display import Markdown"
      ]
    },
    {
      "cell_type": "code",
      "execution_count": 58,
      "metadata": {},
      "outputs": [],
      "source": [
        "# CREATE YAHOO FINANCE TOOL\n",
        "\n",
        "today = date.today()\n",
        "last_year = str(datetime.now().year - 1) + \"-01-01\"\n",
        "\n",
        "def fetch_stock_price(ticket):\n",
        "  stock = yf.download(ticket, start=last_year, end=today)\n",
        "\n",
        "  return stock\n",
        "\n",
        "yahoo_finance_tool = Tool(\n",
        "  name = \"Yahoo Finance Tool\",\n",
        "  description = \"Fetches stocks prices for {ticket} from the last year about a specific company from Yahoo Finance API\",\n",
        "  func = lambda ticket: fetch_stock_price(ticket)\n",
        ")"
      ]
    },
    {
      "cell_type": "code",
      "execution_count": 59,
      "metadata": {},
      "outputs": [],
      "source": [
        "# OPENAI LLM - GPT IMPORT\n",
        "\n",
        "llm = ChatOpenAI(model=\"gpt-3.5-turbo\")"
      ]
    },
    {
      "cell_type": "code",
      "execution_count": 60,
      "metadata": {},
      "outputs": [],
      "source": [
        "stockPriceAnalyst = Agent(\n",
        "  role = \"Senior stock price Analyst\",\n",
        "  goal = \"Find the {ticket} stock price and analyses trends\",\n",
        "  backstory = \"\"\"You're highly experienced in analyzing the price of a \n",
        "  specific stock and make predictions about its future price.\"\"\",\n",
        "  verbose = True,\n",
        "  llm = llm,\n",
        "  max_iter = 5,\n",
        "  memory = True,\n",
        "  allow_delegation = False,\n",
        "  tools = [yahoo_finance_tool],\n",
        ")"
      ]
    },
    {
      "cell_type": "code",
      "execution_count": 61,
      "metadata": {},
      "outputs": [],
      "source": [
        "getStockPrice = Task(\n",
        "  description = \"Analyze the stock {ticket} price history and create a trend analyses of up, down or sideways\",\n",
        "  expected_output = \"\"\"Specify the current trend stock price - up, down or sideways.\n",
        "  eg. stock = 'APPL, price UP' \n",
        "  \"\"\",\n",
        "  agent = stockPriceAnalyst\n",
        ")"
      ]
    },
    {
      "cell_type": "code",
      "execution_count": 62,
      "metadata": {},
      "outputs": [],
      "source": [
        "# SEARCH TOOL IMPORT\n",
        "\n",
        "search_tool = DuckDuckGoSearchResults(backend = 'news' , num_results = 10)"
      ]
    },
    {
      "cell_type": "code",
      "execution_count": 63,
      "metadata": {},
      "outputs": [],
      "source": [
        "newsAnalyst = Agent(\n",
        "  role = \"Stock News Analyst\",\n",
        "  goal = \"\"\"Create a short summary of the market news related to the stock \n",
        "  {ticket} company. Specify the current trend - up, down or sideways with the news\n",
        "  context. For each request stock asset, specify a number between 0 and 100, where 0 is\n",
        "  extreme fear and 100 is extreme greed.\n",
        "  \"\"\",\n",
        "  backstory = \"\"\"You're highly experienced in analyzing the market trends and news and have\n",
        "  tracked assert for more then 10 years.\n",
        "\n",
        "  You're also master level analysts in the tradicional markets and have deep understanding\n",
        "  of human psychology.\n",
        "\n",
        "  You understand news, theirs titles and information, but you look at those with\n",
        "  a health dose of skepticism. \n",
        "  You consider also the source of the news articles.\n",
        "  \"\"\",\n",
        "  verbose = True,\n",
        "  llm = llm,\n",
        "  max_iter = 10,\n",
        "  memory = True,\n",
        "  allow_delegation = False,\n",
        "  tools = [search_tool],\n",
        ")"
      ]
    },
    {
      "cell_type": "code",
      "execution_count": 64,
      "metadata": {},
      "outputs": [],
      "source": [
        "get_news = Task(\n",
        "  description = \"\"\"Take the stock and always include BTC to it (if not request).\n",
        "  Use the search tool to search each one individually.\n",
        "\n",
        "  The current date is {datetime}.\n",
        "\n",
        "  Compose the results into a helpful report\"\"\",\n",
        "  expected_output = \"\"\"A summary of the overall market and one sentence summary \n",
        "  for each request asset.\n",
        "  Include a fear/greed score for each asset based on the news. Use format:\n",
        "  <STOCK ASSET>\n",
        "  <SUMMARY BASED ON NEWS>\n",
        "  <TREND PREDICTION>\n",
        "  <FEAR/GREED SCORE>\n",
        "  \"\"\",\n",
        "  agent = newsAnalyst\n",
        ")"
      ]
    },
    {
      "cell_type": "code",
      "execution_count": 65,
      "metadata": {},
      "outputs": [],
      "source": [
        "stockAnalystWrite = Agent(\n",
        "  role = \"Senior Stock Analyst Writer\",\n",
        "  goal = \"\"\"Analyze the trends price and news and write an insightful compelling and informative 3 paragraph long newsletter\n",
        "  based on the stock report and price trend.\n",
        "  \"\"\",\n",
        "  backstory = \"\"\"You're widely accepted as the best stock analyst in the market. \n",
        "  You understand complex concepts and create compelling stories and narratives\n",
        "  that resonate with wider audiences.\n",
        "\n",
        "  You understand macro factors and comine multiple theories - eg. cycle theory and \n",
        "  fundamental analyses. You're able to hold multiple opinions when analyzing anything.\n",
        "  \"\"\",\n",
        "  verbose = True,\n",
        "  llm = llm,\n",
        "  max_iter = 5,\n",
        "  memory = True,\n",
        "  allow_delegation = True,\n",
        ")"
      ]
    },
    {
      "cell_type": "code",
      "execution_count": 66,
      "metadata": {},
      "outputs": [],
      "source": [
        "writeAnalyses = Task(\n",
        "  description = \"\"\"Use the stock price trend and the news stock news report to\n",
        "  create ab analyses and write the newsletter about the {ticket} company that is\n",
        "  brief and highlights the most important points.\n",
        "  Focus on the stock price trend, news and fear/greed score. What are the near \n",
        "  future considerations?\n",
        "  Include the previous analyses of stock trend and news summary.\n",
        "  \"\"\",\n",
        "  expected_output = \"\"\"An eloquent 3 paragraphs newsletter formatted as markdown\n",
        "  in an easy readable manner. It should contain:\n",
        "\n",
        "  - 3 bullets executive summary\n",
        "  - Introduction - set the overall picture and spike up the interest\n",
        "  - main part provides the meat of the analysis including the news summary and \n",
        "  fear/greed scores.\n",
        "  - summary - key facts and concrete future trend prediction - up, down or sideways.\n",
        "  \"\"\",\n",
        "  agent = stockAnalystWrite,\n",
        "  context = [getStockPrice, get_news]\n",
        ")"
      ]
    },
    {
      "cell_type": "code",
      "execution_count": 67,
      "metadata": {},
      "outputs": [
        {
          "name": "stderr",
          "output_type": "stream",
          "text": [
            "2024-08-21 10:04:49,896 - 137505780768768 - __init__.py-__init__:531 - WARNING: Overriding of current TracerProvider is not allowed\n"
          ]
        }
      ],
      "source": [
        "crew = Crew(\n",
        "  agents = [stockPriceAnalyst, newsAnalyst, stockAnalystWrite],\n",
        "  tasks = [getStockPrice, get_news, writeAnalyses],\n",
        "  # verbose = 2,\n",
        "  verbose = True,\n",
        "  process = Process.hierarchical,\n",
        "  full_output = True,\n",
        "  share_crew = False,\n",
        "  manager_llm = llm,\n",
        "  max_iter = 15\n",
        ")"
      ]
    },
    {
      "cell_type": "code",
      "execution_count": null,
      "metadata": {},
      "outputs": [],
      "source": [
        "results = crew.kickoff(inputs={'ticket': 'AAPL', 'datetime': '2024-08-21'})"
      ]
    },
    {
      "cell_type": "code",
      "execution_count": null,
      "metadata": {},
      "outputs": [],
      "source": [
        "list(results.keys())"
      ]
    },
    {
      "cell_type": "code",
      "execution_count": null,
      "metadata": {},
      "outputs": [],
      "source": [
        "results['final_output']"
      ]
    },
    {
      "cell_type": "code",
      "execution_count": null,
      "metadata": {},
      "outputs": [],
      "source": [
        "len(results['tasks_outputs'])"
      ]
    },
    {
      "cell_type": "code",
      "execution_count": null,
      "metadata": {},
      "outputs": [],
      "source": [
        "Markdown(results['final_output'])"
      ]
    }
  ],
  "metadata": {
    "kernelspec": {
      "display_name": "Python 3",
      "language": "python",
      "name": "python3"
    },
    "language_info": {
      "codemirror_mode": {
        "name": "ipython",
        "version": 3
      },
      "file_extension": ".py",
      "mimetype": "text/x-python",
      "name": "python",
      "nbconvert_exporter": "python",
      "pygments_lexer": "ipython3",
      "version": "3.10.12"
    }
  },
  "nbformat": 4,
  "nbformat_minor": 2
}
