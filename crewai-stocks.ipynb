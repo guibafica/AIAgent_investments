{
 "cells": [
  {
   "cell_type": "code",
   "execution_count": null,
   "metadata": {},
   "outputs": [],
   "source": [
    "# Lib installation\n",
    "\n",
    "!pip install yfinance\n",
    "!pip install crewai\n",
    "!pip install 'crewai[tools]'\n",
    "!pip install langchain"
   ]
  },
  {
   "cell_type": "code",
   "execution_count": 45,
   "metadata": {},
   "outputs": [],
   "source": [
    "# lib imports\n",
    "\n",
    "import json\n",
    "import os\n",
    "from datetime import datetime, date\n",
    "from dateutil.relativedelta import relativedelta\n",
    "\n",
    "import yfinance as yf\n",
    "\n",
    "# from crewai import Agent, Task\n",
    "\n",
    "from langchain.tools import Tool"
   ]
  },
  {
   "cell_type": "code",
   "execution_count": null,
   "metadata": {},
   "outputs": [],
   "source": [
    "today = date.today()\n",
    "last_year = str(datetime.now().year - 1) + \"-01-01\"\n",
    "\n",
    "def fetch_stock_price(ticket):\n",
    "  stock = yf.download(ticket, start=last_year, end=today)\n",
    "\n",
    "  return stock\n",
    "\n",
    "yahoo_finance_tool = Tool(\n",
    "  name = \"Yahoo Finance Tool\",\n",
    "  description = \"Fetches stocks prices for {ticket} from the last year about a specific company from Yahoo Finance API\",\n",
    "  func = lambda ticket: fetch_stock_price(ticket)\n",
    ")"
   ]
  },
  {
   "cell_type": "code",
   "execution_count": null,
   "metadata": {},
   "outputs": [],
   "source": []
  }
 ],
 "metadata": {
  "kernelspec": {
   "display_name": "Python 3",
   "language": "python",
   "name": "python3"
  },
  "language_info": {
   "codemirror_mode": {
    "name": "ipython",
    "version": 3
   },
   "file_extension": ".py",
   "mimetype": "text/x-python",
   "name": "python",
   "nbconvert_exporter": "python",
   "pygments_lexer": "ipython3",
   "version": "3.10.12"
  }
 },
 "nbformat": 4,
 "nbformat_minor": 2
}
